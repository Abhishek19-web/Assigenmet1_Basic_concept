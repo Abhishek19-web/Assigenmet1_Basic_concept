{
 "cells": [
  {
   "cell_type": "markdown",
   "id": "a04885bc-39fc-4ea4-8a1c-6b337cb9df1b",
   "metadata": {},
   "source": [
    "Question 1 -  Explain the key features of Python that make it a popular choice for programming.\n",
    "\n",
    "Answer-  Python is the most popular language that offers a wide variety of career options. \n",
    "It is a free and open-source language used in web applications, data science, artificial intelligence, machine learning, and so many other programs. \n",
    "Python is an easy-to-learn language that allows developers to focus on problem-solving, rather than syntax. \n",
    " \t    \n",
    "Python key features\n",
    "\t\n",
    "\n",
    "1. Ease of Learning and Use :- Python's syntax is designed to be clear and readable, making it \n",
    "\taccessible for beginners and enjoyable for experienced programmers. Its simplicity reduces the\n",
    "\ttime required to write, debug, and maintain code.\n",
    "\n",
    "2. Versatility: Python is a versatile language used for a wide range of applications, from web development and scientific computing to artificial intelligence and automation. \n",
    "   It offers extensive libraries and frameworks that facilitate these diverse uses.\n",
    "\n",
    "3. Large Standard Library: Python comes with a large standard library that provides modules and functions for many common tasks, allowing developers to leverage existing code and avoid\n",
    "    reinventing the wheel.\n",
    "\n",
    "4. Community and Support: Python has a large and active community of developers who contribute to its growth and provide support through forums, tutorials, and open-source projects. \n",
    "    This community-driven aspect ensures that Python remains robust and well-supported.\n",
    "\n",
    "5. Interpreted and Interactive: Python is an interpreted language, which means that code can be executed line by line, making it suitable for prototyping and exploratory programming. \n",
    "   It also supports an interactive mode, where code can be executed and tested immediately.\n",
    "\n",
    "6. Portability: Python code is highly portable and can run on various platforms and systems without modification, enhancing its flexibility for deployment in different environments.\n",
    "\n",
    "7. Scalability: While Python is often chosen for its simplicity, it also scales well for larger applications. \n",
    "    Projects like Instagram and YouTube demonstrate Python's ability to handle millions of users and vast amounts of data.\n",
    "\n",
    "8. Libraries and Frameworks: Python boasts a rich ecosystem of third-party libraries and frameworks such as Django, Flask, NumPy, and TensorFlow. \n",
    "    These libraries extend Python's capabilities for specific tasks, accelerating development and improving performance.\n"
   ]
  },
  {
   "cell_type": "markdown",
   "id": "cec29917-8892-4cd1-bbc8-205343b60710",
   "metadata": {},
   "source": [
    "Question 2. Describe then role of predifined keyowrd in python and provide the examples how they are used in a program.\n",
    " \n",
    "Answer- Keyword are the predifined words that hold the special meaning and specifc pupose in python.\n",
    "         total 36 predifined keywords in python."
   ]
  },
  {
   "cell_type": "code",
   "execution_count": 61,
   "id": "ea81c8cb-c35d-48c7-95eb-dd4fb427cac5",
   "metadata": {},
   "outputs": [
    {
     "data": {
      "text/plain": [
       "True"
      ]
     },
     "execution_count": 61,
     "metadata": {},
     "output_type": "execute_result"
    }
   ],
   "source": [
    "# True, False - Thises are the result of boolean operation in python\n",
    "10 > 1"
   ]
  },
  {
   "cell_type": "code",
   "execution_count": 60,
   "id": "c742a6c1-eae3-4cb4-a5ac-672048aa1a99",
   "metadata": {},
   "outputs": [
    {
     "data": {
      "text/plain": [
       "False"
      ]
     },
     "execution_count": 60,
     "metadata": {},
     "output_type": "execute_result"
    }
   ],
   "source": [
    "5 < 2"
   ]
  },
  {
   "cell_type": "code",
   "execution_count": 67,
   "id": "d9f0b1b9-4195-4006-be61-14ebbfc8e8cc",
   "metadata": {},
   "outputs": [
    {
     "data": {
      "text/plain": [
       "False"
      ]
     },
     "execution_count": 67,
     "metadata": {},
     "output_type": "execute_result"
    }
   ],
   "source": [
    "# None - It returns null value. We cannot create multiple None objects but can assign it to variables. \n",
    "None == 0"
   ]
  },
  {
   "cell_type": "code",
   "execution_count": 69,
   "id": "80f809da-8e84-40cf-8565-068fefd25503",
   "metadata": {},
   "outputs": [
    {
     "data": {
      "text/plain": [
       "False"
      ]
     },
     "execution_count": 69,
     "metadata": {},
     "output_type": "execute_result"
    }
   ],
   "source": [
    "# and, or , not - are the logical operators in Python.   \t\n",
    "#\tand - Return True only if both the operands are True.\n",
    "True and False"
   ]
  },
  {
   "cell_type": "code",
   "execution_count": 70,
   "id": "b10ae7b5-aa17-4713-acea-562d5e3315f7",
   "metadata": {},
   "outputs": [
    {
     "data": {
      "text/plain": [
       "True"
      ]
     },
     "execution_count": 70,
     "metadata": {},
     "output_type": "execute_result"
    }
   ],
   "source": [
    "True and True"
   ]
  },
  {
   "cell_type": "code",
   "execution_count": 72,
   "id": "f14dcc70-71b7-4a8c-bee4-52a68f888683",
   "metadata": {},
   "outputs": [
    {
     "data": {
      "text/plain": [
       "True"
      ]
     },
     "execution_count": 72,
     "metadata": {},
     "output_type": "execute_result"
    }
   ],
   "source": [
    "# or - will result into True if any of the operands is True.\n",
    "True or False"
   ]
  },
  {
   "cell_type": "code",
   "execution_count": 74,
   "id": "13fc0d82-11f6-489f-88f5-e8253a181f2c",
   "metadata": {},
   "outputs": [
    {
     "data": {
      "text/plain": [
       "True"
      ]
     },
     "execution_count": 74,
     "metadata": {},
     "output_type": "execute_result"
    }
   ],
   "source": [
    "# not  - operator is used to invert the truth value.\n",
    "not False"
   ]
  },
  {
   "cell_type": "code",
   "execution_count": 77,
   "id": "55d64715-9fe7-4f2a-9e68-25ad3fb8c49d",
   "metadata": {},
   "outputs": [
    {
     "data": {
      "text/plain": [
       "-1.0"
      ]
     },
     "execution_count": 77,
     "metadata": {},
     "output_type": "execute_result"
    }
   ],
   "source": [
    "# as -   is used to create an alias while importing a module.\n",
    "#        It means giving a different name (user-defined) to a module while importing it.\n",
    "import math as myAlias\n",
    "myAlias.cos(myAlias.pi)\n"
   ]
  },
  {
   "cell_type": "markdown",
   "id": "8f270d87-34ab-4ebb-99b3-4098403eab7b",
   "metadata": {},
   "source": [
    "  assert -  is used for debugging purposes. \n",
    "   While programming, sometimes we wish to know the internal state or check if our assumptions are true. \n",
    "  assert helps us do this and find bugs more conveniently. assert is followed by a condition.\n",
    "  If the condition is true, nothing happens. But if the condition is false, AssertionError is raised."
   ]
  },
  {
   "cell_type": "markdown",
   "id": "df89a988-aaef-4292-acee-795503e954fd",
   "metadata": {},
   "source": [
    " async, await - The async and await keywords are provided by the asyncio library in Python. \n",
    "  They are used to write concurrent code in Python"
   ]
  },
  {
   "cell_type": "markdown",
   "id": "c5d35cf4-1205-4dc2-a890-a81d6c5adab8",
   "metadata": {},
   "source": [
    "break, continue - break and continue are used inside for and while loops to alter their normal behavior.\n",
    "\n",
    "break will end the smallest loop it is in and control flows to the statement immediately below the loop. continue causes to end the current iteration of the loop, but not the whole loop.\n",
    "\n",
    "This can be illustrated with the following two examples:\n",
    "\n",
    "for i in range(1,11):\n",
    "    if i == 5:\n",
    "        break\n",
    "    print(i)\n",
    "\n",
    "for i in range(1,11):\n",
    "    if i == 5:\n",
    "        continue\n",
    "    print(i)\n"
   ]
  },
  {
   "cell_type": "markdown",
   "id": "0efe7bb4-b79a-46be-8cad-a372be80050e",
   "metadata": {},
   "source": [
    "class - class is used to define a new user-defined class in Python.\n",
    "\n",
    "class ExampleClass:\n",
    "    def function1(parameters):\n",
    "        …\n",
    "    def function2(parameters):\n"
   ]
  },
  {
   "cell_type": "markdown",
   "id": "37563d0e-5bbb-4eaf-9363-f2ae6b992eb4",
   "metadata": {},
   "source": [
    "def -  def is used to define a user-defined function.\n",
    "\n",
    "    def function_name(parameters):\n"
   ]
  },
  {
   "cell_type": "code",
   "execution_count": 82,
   "id": "f0a96e88-2af2-43ab-9efe-8f5d84484b21",
   "metadata": {},
   "outputs": [
    {
     "data": {
      "text/plain": [
       "['x', 'z']"
      ]
     },
     "execution_count": 82,
     "metadata": {},
     "output_type": "execute_result"
    }
   ],
   "source": [
    "# Del -  del is used to delete the reference to an object. Everything is object in Python. We can delete a variable reference using del\n",
    "a = ['x','y','z']\n",
    "del a[1]\n",
    "a"
   ]
  },
  {
   "cell_type": "code",
   "execution_count": 85,
   "id": "cd1154df-10b3-4049-a36d-8b38c5b3115a",
   "metadata": {},
   "outputs": [
    {
     "name": "stdout",
     "output_type": "stream",
     "text": [
      "Two\n"
     ]
    }
   ],
   "source": [
    "# if, else, elif - if, else, elif are used for conditional branching or decision making.\n",
    "\n",
    "a  = 2\n",
    "if a == 1:\n",
    "    print('One')\n",
    "elif a == 2:\n",
    "    print('Two')\n",
    "else:\n",
    "    print('Something else')\n"
   ]
  },
  {
   "cell_type": "code",
   "execution_count": 86,
   "id": "164a57c2-09ec-4ab9-8f94-cc92b95df7a0",
   "metadata": {},
   "outputs": [
    {
     "name": "stdout",
     "output_type": "stream",
     "text": [
      "Hello John\n",
      "Hello Monica\n",
      "Hello Steven\n",
      "Hello Robin\n"
     ]
    }
   ],
   "source": [
    "# for - for is used for looping. Generally we use for when we know the number of times we want to loop.\n",
    "\n",
    "names = ['John','Monica','Steven','Robin']\n",
    "for i in names:\n",
    "    print('Hello '+i)\n"
   ]
  },
  {
   "cell_type": "markdown",
   "id": "3c112cdf-1b1b-417d-9c55-39a2e266c055",
   "metadata": {},
   "source": [
    "except, raise, try - except, raise, try are used with exceptions in Python.\n",
    "def reciprocal(num):\n",
    "    try:\n",
    "        r = 1/num\n",
    "    except:\n",
    "        print('Exception caught')\n",
    "        return\n",
    "    return r\n",
    "\n",
    "print(reciprocal(10))\n",
    "print(reciprocal(0))\n"
   ]
  },
  {
   "cell_type": "markdown",
   "id": "293ccc60-092f-4410-b705-ec1878556aac",
   "metadata": {},
   "source": [
    "finally is used with try…except block to close up resources or file streams.\n",
    "\n",
    "try:\n",
    "    Try-block\n",
    "except exception1:\n",
    "    Exception1-block\n",
    "except exception2:\n",
    "    Exception2-block\n",
    "else:\n",
    "    Else-block\n",
    "finally:\n",
    "    Finally-block\n"
   ]
  },
  {
   "cell_type": "code",
   "execution_count": 88,
   "id": "e6c8eabf-aa8b-4519-af04-baa0133f1070",
   "metadata": {},
   "outputs": [
    {
     "name": "stdout",
     "output_type": "stream",
     "text": [
      "Hello John\n",
      "Hello Monica\n",
      "Hello Steven\n",
      "Hello Robin\n"
     ]
    }
   ],
   "source": [
    "#for is used for looping. Generally we use for when we know the number of times we want to loop.\n",
    "\n",
    "names = ['John','Monica','Steven','Robin']\n",
    "for i in names:\n",
    "    print('Hello '+i)\n"
   ]
  },
  {
   "cell_type": "code",
   "execution_count": 90,
   "id": "2bb846e2-0a2b-4c97-a31c-4eed4e78c20d",
   "metadata": {},
   "outputs": [],
   "source": [
    "#    from, import - import keyword is used to import modules into the current namespace. \n",
    "#    from…import is used to import specific attributes or functions into the current namespace. \n",
    "\n",
    "import math\n",
    "\n",
    "from math import cos\n"
   ]
  },
  {
   "cell_type": "markdown",
   "id": "ee6c5cf6-01ca-4acb-9a77-4356e281a4c1",
   "metadata": {},
   "source": [
    "# global is used to declare that a variable inside the function is global (outside the function).\n",
    "\n",
    "globvar = 10\n",
    "def read1():\n",
    "    print(globvar)\n",
    "def write1():\n",
    "    global globvar\n",
    "    globvar = 5\n",
    "def write2():\n",
    "    globvar = 15\n",
    "    \n",
    "    "
   ]
  },
  {
   "cell_type": "code",
   "execution_count": 92,
   "id": "bedb7923-0649-47ec-9f3f-9d05f3f6083d",
   "metadata": {},
   "outputs": [
    {
     "data": {
      "text/plain": [
       "True"
      ]
     },
     "execution_count": 92,
     "metadata": {},
     "output_type": "execute_result"
    }
   ],
   "source": [
    "# IN -  in is used to test if a sequence (list, tuple, string etc.) contains a value. \n",
    "# It returns True if the value is present, else it returns False. \n",
    "a = [1, 2, 3, 4, 5]\n",
    "5 in a"
   ]
  },
  {
   "cell_type": "code",
   "execution_count": 94,
   "id": "e8ddb844-4fb2-4487-bc68-78695671f820",
   "metadata": {},
   "outputs": [
    {
     "data": {
      "text/plain": [
       "True"
      ]
     },
     "execution_count": 94,
     "metadata": {},
     "output_type": "execute_result"
    }
   ],
   "source": [
    "# is -  is used in Python for testing object identity. \n",
    "# While the == operator is used to test if two variables are equal or not, is is used to test if the two variables refer to the same object.\n",
    "True == True"
   ]
  },
  {
   "cell_type": "code",
   "execution_count": 95,
   "id": "ebc9e29d-853b-47bd-ba1f-09576c73bf95",
   "metadata": {},
   "outputs": [
    {
     "name": "stdout",
     "output_type": "stream",
     "text": [
      "2\n",
      "4\n",
      "6\n",
      "8\n",
      "10\n"
     ]
    }
   ],
   "source": [
    "#  lambda - lambda is used to create an anonymous function (function with no name). \n",
    "#  It is an inline function that does not contain a return statement. It consists of an expression that is evaluated and returned. \n",
    "\n",
    "a = lambda x: x*2\n",
    "for i in range(1,6):\n",
    "    print(a(i))\n",
    "\n"
   ]
  },
  {
   "cell_type": "markdown",
   "id": "ab019810-c4dd-4d76-aef8-007444743316",
   "metadata": {},
   "source": [
    "nonlocal - The use of nonlocal keyword is very much similar to the global keyword. nonlocal is used to declare that a variable inside a nested function (function inside a function) is not local to it, meaning it lies in the outer inclosing function. \n",
    "If we need to modify the value of a non-local variable inside a nested function, then we must declare it with nonlocal.\n",
    "\n",
    "def outer_function():\n",
    "    a = 5\n",
    "    def inner_function():\n",
    "        nonlocal a\n",
    "        a = 10\n",
    "        print(\"Inner function: \",a)\n",
    "    inner_function()\n",
    "    print(\"Outer function: \",a)\n",
    "\n",
    "outer_function()"
   ]
  },
  {
   "cell_type": "markdown",
   "id": "77079b1d-b352-4208-9b90-3d50807a2e90",
   "metadata": {},
   "source": [
    "# pass - pass is a null statement in Python. Nothing happens when it is executed. It is used as a placeholder.\n",
    "\n",
    "def function(args):\n",
    "    pass"
   ]
  },
  {
   "cell_type": "markdown",
   "id": "421002fa-a241-4a71-ad1e-62b8ad2e93dd",
   "metadata": {},
   "source": [
    "# return statement is used inside a function to exit it and return a value.\n",
    "\n",
    "def func_return():\n",
    "    a = 10\n",
    "    return a\n"
   ]
  },
  {
   "cell_type": "code",
   "execution_count": 99,
   "id": "c702afd1-7910-46b6-ab11-d43d331d114e",
   "metadata": {},
   "outputs": [
    {
     "name": "stdout",
     "output_type": "stream",
     "text": [
      "5\n",
      "4\n",
      "3\n",
      "2\n",
      "1\n"
     ]
    }
   ],
   "source": [
    "#while is used for looping in Python.\n",
    "#The statements inside a while loop continue to execute until the condition for the while loop evaluates to False or a break statement is encountered. \n",
    "\n",
    "i = 5\n",
    "while(i):\n",
    "    print(i)\n",
    "    i = i-1\n"
   ]
  },
  {
   "cell_type": "markdown",
   "id": "c0f3bcba-e18b-40ff-972f-6e2d0e0167a5",
   "metadata": {},
   "source": [
    "With - with statement is used to wrap the execution of a block of code within methods defined by the context manager.\n",
    "\n",
    "Context manager is a class that implements __enter__ and __exit__ methods.\n",
    "\n",
    "with open('example.txt', 'w') as my_file:\n",
    "    my_file.write('Hello world!')\n"
   ]
  },
  {
   "cell_type": "markdown",
   "id": "d2f46d04-f78f-4608-b5dc-327ce73a14b9",
   "metadata": {},
   "source": [
    "yield is used inside a function like a return statement. But yield returns a generator.\n",
    "\n",
    "Generator is an iterator that generates one item at a time. A large list of values will take up a lot of memory. Generators are useful in this situation as it generates only one value at a time instead of storing all the values in memory. For example,\n",
    "\n",
    "def generator():\n",
    "    for i in range(6):\n",
    "        yield i*i\n",
    "\n",
    "g = generator()\n",
    "for i in g:\n",
    "    print(i)"
   ]
  },
  {
   "cell_type": "raw",
   "id": "88c58583-68a6-4ebe-8c8f-ae4683dab027",
   "metadata": {},
   "source": [
    "Question 3. Compare and contrast the mutable and immutable object in python with example.\n",
    "\n",
    "Answer - Mutable Object/Container whose value can be changed after they are created.\n",
    "\n",
    "Below are the eaxmples of Mutable object.\n"
   ]
  },
  {
   "cell_type": "code",
   "execution_count": 3,
   "id": "1953eda0-86a5-4350-8973-5d3e43521247",
   "metadata": {},
   "outputs": [
    {
     "data": {
      "text/plain": [
       "[1, 2, 3, 4]"
      ]
     },
     "execution_count": 3,
     "metadata": {},
     "output_type": "execute_result"
    }
   ],
   "source": [
    "lst = [1, 2, 3]  #(Lists are mutable in Python.)\n",
    "lst = [1, 2, 3]\n",
    "lst.append(4)  # Modifies the existing list by adding 4 to it\n",
    "lst"
   ]
  },
  {
   "cell_type": "code",
   "execution_count": 5,
   "id": "6c8fec9f-2e14-441d-94ed-a31cb3327b37",
   "metadata": {},
   "outputs": [
    {
     "data": {
      "text/plain": [
       "{'a': 1, 'b': 2, 'c': 3}"
      ]
     },
     "execution_count": 5,
     "metadata": {},
     "output_type": "execute_result"
    }
   ],
   "source": [
    "d = {'a': 1, 'b': 2}\n",
    "d['c'] = 3  # Modifies the existing dictionary by adding {'c': 3}\n",
    "d"
   ]
  },
  {
   "cell_type": "code",
   "execution_count": 6,
   "id": "bdefc50e-2cfd-4461-8f8f-22001e55ddcc",
   "metadata": {},
   "outputs": [
    {
     "data": {
      "text/plain": [
       "{1, 2, 3, 4}"
      ]
     },
     "execution_count": 6,
     "metadata": {},
     "output_type": "execute_result"
    }
   ],
   "source": [
    "set_var = {1, 2, 3} #(Sets are mutable and support operations like adding or removing elements.)\n",
    "\n",
    "set_var = {1, 2, 3}\n",
    "set_var.add(4)  # Modifies the existing set by adding 4 to it\n",
    "set_var\n"
   ]
  },
  {
   "cell_type": "markdown",
   "id": "d026ccdc-8163-4ead-8df5-7e7e13579c62",
   "metadata": {},
   "source": [
    "Immutable objects are those whose state cannot be changed once they are created. \n",
    "If you want to modify an immutable object, you have to create a new object with the desired changes.\n"
   ]
  },
  {
   "cell_type": "code",
   "execution_count": 10,
   "id": "2a276b25-e97d-4243-96a2-edebfa3d2899",
   "metadata": {},
   "outputs": [],
   "source": [
    "# Integers\n",
    "\n",
    "x = 5 #(Once x is assigned to 5, you cannot change its value to another integer; you would need to reassign x.)\n",
    "x = 5\n",
    "x = 10  # Creates a new integer object with value 10 and assigns it to x\n"
   ]
  },
  {
   "cell_type": "code",
   "execution_count": 12,
   "id": "992c5f8d-25ab-4160-82af-656b5051b36a",
   "metadata": {},
   "outputs": [],
   "source": [
    "# Strings\n",
    "    \n",
    "s = \"hello\" #(Strings in Python are immutable. Operations like concatenation or slicing create new string objects.)\n",
    "s = \"hello\"\n",
    "s += \" world\"  # Concatenation creates a new string object \"hello world\"\n"
   ]
  },
  {
   "cell_type": "code",
   "execution_count": 14,
   "id": "2e4af106-b04b-4300-ae86-fa3b2a991d2a",
   "metadata": {},
   "outputs": [],
   "source": [
    "# Tuples\n",
    "\n",
    "t = (1, 2, 3) #(Tuples are immutable collections of objects.)\n",
    "t = (1, 2, 3)\n",
    "t += (4, 5)  # Creates a new tuple (1, 2, 3, 4, 5)\n"
   ]
  },
  {
   "cell_type": "markdown",
   "id": "98dc787e-7b04-411f-a987-ace17f9b616f",
   "metadata": {},
   "source": [
    " Question 4 - Discuss the different types of operators in Python and provide examples of how they are used.\n",
    " \n",
    " In Python, operators are special symbols or keywords that perform operations on variables and values. \n",
    " They can be classified into several types based on their functionality. \n",
    " Below are the operators in Python:\n",
    "\n"
   ]
  },
  {
   "cell_type": "code",
   "execution_count": 17,
   "id": "fd872f39-0998-457f-998d-e6eea1a14b69",
   "metadata": {},
   "outputs": [
    {
     "data": {
      "text/plain": [
       "10"
      ]
     },
     "execution_count": 17,
     "metadata": {},
     "output_type": "execute_result"
    }
   ],
   "source": [
    "# 1. Arithmetic Operators\n",
    "# Arthematic operators are used to perform mathematical operations like addition, substractions, multiplications, Divison, modules, etc.\n",
    "\n",
    "# Addition of two operands\n",
    "a = 5 \n",
    "b = 5\n",
    "a+b\n"
   ]
  },
  {
   "cell_type": "code",
   "execution_count": 18,
   "id": "a178fdba-2df6-444b-bcf9-ce2ef39d94df",
   "metadata": {},
   "outputs": [
    {
     "data": {
      "text/plain": [
       "6"
      ]
     },
     "execution_count": 18,
     "metadata": {},
     "output_type": "execute_result"
    }
   ],
   "source": [
    "# Substractions\n",
    "\n",
    "a = 10 \n",
    "b = 4\n",
    "a-b"
   ]
  },
  {
   "cell_type": "code",
   "execution_count": 21,
   "id": "6913b843-bd35-4835-bc29-8b5f9f1d834e",
   "metadata": {},
   "outputs": [
    {
     "data": {
      "text/plain": [
       "12"
      ]
     },
     "execution_count": 21,
     "metadata": {},
     "output_type": "execute_result"
    }
   ],
   "source": [
    "# Multiplications \n",
    "\n",
    "a = 3\n",
    "b = 4\n",
    "c = a*b\n",
    "c"
   ]
  },
  {
   "cell_type": "code",
   "execution_count": 22,
   "id": "d6d91ee1-b11f-47b9-8248-e0cd1fb201d4",
   "metadata": {},
   "outputs": [
    {
     "data": {
      "text/plain": [
       "10.0"
      ]
     },
     "execution_count": 22,
     "metadata": {},
     "output_type": "execute_result"
    }
   ],
   "source": [
    "# Divison  (always results in a float).\n",
    "a = 50\n",
    "b = 5\n",
    "a/b\n",
    "\n"
   ]
  },
  {
   "cell_type": "code",
   "execution_count": 24,
   "id": "73da352a-d057-4ac3-a115-ae80d6b4a190",
   "metadata": {},
   "outputs": [
    {
     "data": {
      "text/plain": [
       "6"
      ]
     },
     "execution_count": 24,
     "metadata": {},
     "output_type": "execute_result"
    }
   ],
   "source": [
    "# Floor Division (//): Divides left operand by the right operand and returns the floor value (integer part).\n",
    "\n",
    "a = 20\n",
    "b = 3\n",
    "a // b"
   ]
  },
  {
   "cell_type": "code",
   "execution_count": 25,
   "id": "4e5320fc-f58b-428d-b2fe-07c0ea09d9df",
   "metadata": {},
   "outputs": [
    {
     "data": {
      "text/plain": [
       "1"
      ]
     },
     "execution_count": 25,
     "metadata": {},
     "output_type": "execute_result"
    }
   ],
   "source": [
    "# Modulus (%): Returns the remainder of the division of left operand by the right.\n",
    "\n",
    "a = 10\n",
    "b = 3\n",
    "a % b"
   ]
  },
  {
   "cell_type": "code",
   "execution_count": 26,
   "id": "02b56fc2-e211-4383-a277-6f19332f982f",
   "metadata": {},
   "outputs": [
    {
     "data": {
      "text/plain": [
       "8"
      ]
     },
     "execution_count": 26,
     "metadata": {},
     "output_type": "execute_result"
    }
   ],
   "source": [
    "# Exponentiation (**): Performs exponential (power) calculation on operands.\n",
    "\n",
    "a = 2\n",
    "b = 3\n",
    "a ** b"
   ]
  },
  {
   "cell_type": "code",
   "execution_count": 27,
   "id": "9ba4ec5f-80df-4d66-a58d-8fb27cc6d6c1",
   "metadata": {},
   "outputs": [
    {
     "data": {
      "text/plain": [
       "True"
      ]
     },
     "execution_count": 27,
     "metadata": {},
     "output_type": "execute_result"
    }
   ],
   "source": [
    "# Comparison (Relational) Operators\n",
    "# Comparison operators are used to compare values. They return either True or False.\n",
    "\n",
    "2 == 2"
   ]
  },
  {
   "cell_type": "code",
   "execution_count": 28,
   "id": "a8f2611f-6a61-40bf-ba7a-33962d9aac88",
   "metadata": {},
   "outputs": [
    {
     "data": {
      "text/plain": [
       "False"
      ]
     },
     "execution_count": 28,
     "metadata": {},
     "output_type": "execute_result"
    }
   ],
   "source": [
    "2!=2"
   ]
  },
  {
   "cell_type": "code",
   "execution_count": 1,
   "id": "083b7f63-7044-431f-a747-c5572bdbae09",
   "metadata": {},
   "outputs": [
    {
     "data": {
      "text/plain": [
       "False"
      ]
     },
     "execution_count": 1,
     "metadata": {},
     "output_type": "execute_result"
    }
   ],
   "source": [
    "# Logical Operators\n",
    "# Logical operators are used to combine conditional statements.\n",
    "\n",
    "# Logical AND (and): True if both operands are true.\n",
    "\n",
    "a = True\n",
    "b = False\n",
    "a and b"
   ]
  },
  {
   "cell_type": "code",
   "execution_count": 2,
   "id": "ba1e0315-ee91-4b9d-a7f7-4956f8356b68",
   "metadata": {},
   "outputs": [
    {
     "data": {
      "text/plain": [
       "True"
      ]
     },
     "execution_count": 2,
     "metadata": {},
     "output_type": "execute_result"
    }
   ],
   "source": [
    "# Logical OR (or): True if either operand is true.\n",
    "\n",
    "a = True\n",
    "b = False\n",
    "(a or b)\n"
   ]
  },
  {
   "cell_type": "code",
   "execution_count": 3,
   "id": "af1f02d4-9bd7-499d-bd39-8872b981a51f",
   "metadata": {},
   "outputs": [
    {
     "data": {
      "text/plain": [
       "False"
      ]
     },
     "execution_count": 3,
     "metadata": {},
     "output_type": "execute_result"
    }
   ],
   "source": [
    "# Logical NOT (not): True if operand is false (complements the operand).\n",
    "\n",
    "a = True\n",
    "not a\n"
   ]
  },
  {
   "cell_type": "code",
   "execution_count": 5,
   "id": "8c6f62f7-2fd2-41d9-a600-facd574e1686",
   "metadata": {},
   "outputs": [
    {
     "data": {
      "text/plain": [
       "15"
      ]
     },
     "execution_count": 5,
     "metadata": {},
     "output_type": "execute_result"
    }
   ],
   "source": [
    "# Assignment operators are used to assign values to variables.\n",
    "\n",
    "# Assignment (=): Assigns value from right side operands to left side operand.\n",
    "\n",
    "a = 10\n",
    "a += 5  \n",
    "a"
   ]
  },
  {
   "cell_type": "code",
   "execution_count": 6,
   "id": "4188fc4b-764d-45c9-bd10-1ddb6df3b7da",
   "metadata": {},
   "outputs": [],
   "source": [
    "# Compound Assignment (+=, -=, *=, /=, %=, //=, **=): These operators perform operation and assignment in one step.\n",
    "\n",
    "a = 10\n",
    "a += 5  # Equivalent to a = a + 5"
   ]
  },
  {
   "cell_type": "code",
   "execution_count": 7,
   "id": "545f053c-edda-4afd-9f89-5176f5024efb",
   "metadata": {},
   "outputs": [],
   "source": [
    "# Bitwise Operators - Bitwise operators act on bits and perform bit-by-bit operations.\n",
    "# Bitwise AND (&), Bitwise OR (|), Bitwise XOR (^), Bitwise NOT (~), Bitwise Left Shift (<<), Bitwise Right Shift (>>): \n",
    "# These operators manipulate bits within integers.\n",
    "\n",
    "a = 10  # binary: 1010\n",
    "b = 4   # binary: 0100\n",
    "result_and = a & b   # result_and = 0\n",
    "result_or = a | b    # result_or = 14\n",
    "result_xor = a ^ b   # result_xor = 14\n",
    "result_not = ~a      # result_not = -11\n",
    "result_left_shift = a << 1  # result_left_shift = 20\n",
    "result_right_shift = a >> 1 # result_right_shift = 5"
   ]
  },
  {
   "cell_type": "code",
   "execution_count": 10,
   "id": "8f62096c-b9f4-4b30-8e79-34e520bf3677",
   "metadata": {},
   "outputs": [
    {
     "data": {
      "text/plain": [
       "False"
      ]
     },
     "execution_count": 10,
     "metadata": {},
     "output_type": "execute_result"
    }
   ],
   "source": [
    "# Membership operator - membership operator is used to test whether a value or variable is found within a sequence\n",
    "\n",
    "a = \"pwskills\"\n",
    "\"p\" in a # result is true\n",
    "\"p\" not in a # rsult is false"
   ]
  },
  {
   "cell_type": "code",
   "execution_count": 13,
   "id": "ae004d56-6e59-45c9-8a40-13e7611d7536",
   "metadata": {},
   "outputs": [
    {
     "data": {
      "text/plain": [
       "True"
      ]
     },
     "execution_count": 13,
     "metadata": {},
     "output_type": "execute_result"
    }
   ],
   "source": [
    "# Identify Operator - Compare the location of two object / varaible in the memory.\n",
    "a = 2\n",
    "b = 3\n",
    "\n",
    "a is b # o/p is False\n",
    "a is not b  # o/p is True"
   ]
  },
  {
   "cell_type": "markdown",
   "id": "2e61cc56-a12a-4ce9-be6a-f9a9eec65dab",
   "metadata": {},
   "source": [
    "Question - Explain the concept of type casting in Python with examples\n",
    "\n",
    "Type casting is the process of changing data type of a value / object.\n",
    "\n",
    "While executing / computation using operators there can be missmatched between the data.\n",
    "\n",
    "a = \"2\"\n",
    "b = 3\n",
    "a + b -> o/p -> Type error\n",
    "a = \"2\" -> this is string type\n",
    "b = 3 -> this is integer type\n",
    "\n",
    "Type error cancatenate string (not \"int\") to string.\n",
    "\n"
   ]
  },
  {
   "cell_type": "code",
   "execution_count": 14,
   "id": "db3c58a7-7268-48a7-b78c-3da7b029cf89",
   "metadata": {},
   "outputs": [
    {
     "data": {
      "text/plain": [
       "5"
      ]
     },
     "execution_count": 14,
     "metadata": {},
     "output_type": "execute_result"
    }
   ],
   "source": [
    "# solution \n",
    "\n",
    "a = \"2\"\n",
    "b = 3\n",
    "int(a) + b"
   ]
  },
  {
   "cell_type": "code",
   "execution_count": 16,
   "id": "e3016e7a-530f-40f9-af34-aafb240d3d46",
   "metadata": {},
   "outputs": [
    {
     "data": {
      "text/plain": [
       "2"
      ]
     },
     "execution_count": 16,
     "metadata": {},
     "output_type": "execute_result"
    }
   ],
   "source": [
    "# String to intiger \n",
    "a = \"2\"\n",
    "type(a)\n",
    "int(a)"
   ]
  },
  {
   "cell_type": "code",
   "execution_count": 19,
   "id": "984944e6-cda8-4da1-9c7b-bc2f493bdf0a",
   "metadata": {},
   "outputs": [
    {
     "data": {
      "text/plain": [
       "3"
      ]
     },
     "execution_count": 19,
     "metadata": {},
     "output_type": "execute_result"
    }
   ],
   "source": [
    "# Float to Intiger\n",
    "a = 3.4\n",
    "type(a)\n",
    "int(a)"
   ]
  },
  {
   "cell_type": "code",
   "execution_count": 21,
   "id": "36007eff-8845-4c5c-b25a-c3926832fedd",
   "metadata": {},
   "outputs": [
    {
     "data": {
      "text/plain": [
       "2.0"
      ]
     },
     "execution_count": 21,
     "metadata": {},
     "output_type": "execute_result"
    }
   ],
   "source": [
    "# Interger to float\n",
    "a = 2\n",
    "type(a)\n",
    "float(a)"
   ]
  },
  {
   "cell_type": "code",
   "execution_count": 23,
   "id": "01f17cdb-a6e3-4014-ad08-378b40e69b31",
   "metadata": {},
   "outputs": [
    {
     "data": {
      "text/plain": [
       "2.3"
      ]
     },
     "execution_count": 23,
     "metadata": {},
     "output_type": "execute_result"
    }
   ],
   "source": [
    "# String to float \n",
    "a = \"2.3\"\n",
    "type(a)\n",
    "float(a)"
   ]
  },
  {
   "cell_type": "code",
   "execution_count": 24,
   "id": "771d5fcb-2c47-4fa4-bcc5-cccd458c18de",
   "metadata": {},
   "outputs": [
    {
     "data": {
      "text/plain": [
       "'3'"
      ]
     },
     "execution_count": 24,
     "metadata": {},
     "output_type": "execute_result"
    }
   ],
   "source": [
    "# Intiger to String\n",
    "a = 3\n",
    "str(a)"
   ]
  },
  {
   "cell_type": "code",
   "execution_count": 25,
   "id": "b753c12a-783d-4d18-9db2-96edc51adee5",
   "metadata": {},
   "outputs": [],
   "source": [
    "# Type casting is two type in pythom\n",
    "# 1. Implicit 2. explicit"
   ]
  },
  {
   "cell_type": "code",
   "execution_count": 28,
   "id": "cc24d975-ca6f-4b78-8f54-8e7a5f713f7a",
   "metadata": {},
   "outputs": [
    {
     "data": {
      "text/plain": [
       "5.5"
      ]
     },
     "execution_count": 28,
     "metadata": {},
     "output_type": "execute_result"
    }
   ],
   "source": [
    "# Implicit typecasting  -  Python understand the data types. python interpreter automaticaly covert the data type to another data typew.\n",
    "\n",
    "a = 5\n",
    "type(a)\n",
    "\n",
    "2 + 3 # o/p is 5\n",
    "2 + 3.5 # o/p is 5.5"
   ]
  },
  {
   "cell_type": "code",
   "execution_count": 30,
   "id": "e1a768f7-5dbd-4893-85c6-cdcc6d6164fb",
   "metadata": {},
   "outputs": [
    {
     "data": {
      "text/plain": [
       "'AbhishekPratap Singh'"
      ]
     },
     "execution_count": 30,
     "metadata": {},
     "output_type": "execute_result"
    }
   ],
   "source": [
    "# Explicit typecasting  - It convert data type using inbuilt function e.g. str, int, float, boolean\n",
    "\n",
    "a = \"2\"\n",
    "type(a) # o/p is string\n",
    "\n",
    "a = \"Abhishek\"\n",
    "b = \"Pratap Singh\"\n",
    "a+b "
   ]
  },
  {
   "cell_type": "markdown",
   "id": "75235e48-f800-438f-9417-3f5ae47dd54d",
   "metadata": {},
   "source": [
    "Question - How do conditional statements work in Python? Illustrate with examples.\n",
    "  \n",
    "  Conditional statements in Python allow you to make decisions in your code based on whether certain conditions are true or false. \n",
    "   \n",
    "  The main constructs for conditional statements in Python are : \n",
    "    \n",
    "    * if\n",
    "    * if esle\n",
    "    * if elif (else if)else\n",
    "    * Nested if else\n"
   ]
  },
  {
   "cell_type": "code",
   "execution_count": 2,
   "id": "e731bd8b-0df2-4ec4-920b-faa0bb837ab7",
   "metadata": {},
   "outputs": [
    {
     "name": "stdout",
     "output_type": "stream",
     "text": [
      "you are passed\n"
     ]
    }
   ],
   "source": [
    "# if Statement\n",
    "#    if conditon True:\n",
    "#       block code will be ececuted'\n",
    "\n",
    "# example - \n",
    "Marks =  72\n",
    "if (Marks >= 30):\n",
    "    print(\"you are passed\")"
   ]
  },
  {
   "cell_type": "code",
   "execution_count": 3,
   "id": "692f87cc-d367-48fa-811c-1154eb42c02c",
   "metadata": {},
   "outputs": [
    {
     "name": "stdout",
     "output_type": "stream",
     "text": [
      "I will play cricket\n"
     ]
    }
   ],
   "source": [
    "# if else - execute the if the condition is ture otherwsie execute else block.\n",
    "Wether = \"sunny\"\n",
    "if (Wether == \"sunny\"):\n",
    "    print(\"I will play cricket\")\n",
    "else:\n",
    "    print(\"i will watch tv\")"
   ]
  },
  {
   "cell_type": "code",
   "execution_count": 5,
   "id": "d068db7d-a38d-402b-af70-1a5a19d8a0bc",
   "metadata": {},
   "outputs": [
    {
     "name": "stdout",
     "output_type": "stream",
     "text": [
      "Grade: B\n"
     ]
    }
   ],
   "source": [
    "# if-elif-else Statement  - statement is used to conditionally execute a statement or a block of statements.\n",
    "grade = 85\n",
    "\n",
    "if grade >= 90:\n",
    "    print(\"Grade: A\")\n",
    "elif grade >= 80:\n",
    "    print(\"Grade: B\")\n",
    "elif grade >= 70:\n",
    "    print(\"Grade: C\")\n",
    "else:\n",
    "    print(\"Grade: D\")\n"
   ]
  },
  {
   "cell_type": "code",
   "execution_count": 11,
   "id": "a993f580-a69f-4e9e-b9f5-4c9e0dca5f7a",
   "metadata": {},
   "outputs": [
    {
     "name": "stdout",
     "output_type": "stream",
     "text": [
      "Number is greater than 10 and odd.\n"
     ]
    }
   ],
   "source": [
    "# nested if else - Ypu can have multiple if else inside if else.\n",
    "number = 15\n",
    "\n",
    "if number > 10:\n",
    "    if number % 2 == 0:\n",
    "        print(\"Number is greater than 10 and even.\")\n",
    "    else:\n",
    "        print(\"Number is greater than 10 and odd.\")\n",
    "else:\n",
    "    print(\"Number is 10 or less.\")"
   ]
  },
  {
   "cell_type": "markdown",
   "id": "5aabd691-dd36-40bf-8ce6-3aee427785c7",
   "metadata": {},
   "source": [
    "Question - Describe the different types of loops in python and their use cases with examples.\n",
    "\n",
    " >>>>   Loops are used to execute a block of code repeatedly. \n",
    "        There are mainly three types of loops: for loops, while loops, and nested loops. "
   ]
  },
  {
   "cell_type": "code",
   "execution_count": 15,
   "id": "209e6416-8d70-4e54-9020-4e916e7c72d5",
   "metadata": {},
   "outputs": [
    {
     "name": "stdout",
     "output_type": "stream",
     "text": [
      "0\n",
      "1\n",
      "2\n",
      "3\n",
      "4\n"
     ]
    }
   ],
   "source": [
    "# While loop - while loop repeatidly executed a block of code until a condition is met.\n",
    "# Syantax -  wihile condition:\n",
    "#                block of code\n",
    "#   while is keyword which is use for a while loop.\n",
    "\n",
    "# Examples - \n",
    "count = 0\n",
    "while count < 5:\n",
    "    print(count)\n",
    "    count += 1\n",
    " "
   ]
  },
  {
   "cell_type": "code",
   "execution_count": 16,
   "id": "f4277f2c-7395-4337-82a4-eeb2c83b1a4b",
   "metadata": {},
   "outputs": [
    {
     "name": "stdout",
     "output_type": "stream",
     "text": [
      "1\n",
      "2\n",
      "3\n",
      "4\n",
      "5\n",
      "6\n",
      "end of loop\n"
     ]
    }
   ],
   "source": [
    "n = 7 \n",
    "i = 1\n",
    "while i<n:\n",
    "    print(i)\n",
    "    i=i+1\n",
    "else:\n",
    "    print(\"end of loop\")"
   ]
  },
  {
   "cell_type": "code",
   "execution_count": 17,
   "id": "aa26b0fc-b8a3-424c-a326-360ca17c784c",
   "metadata": {},
   "outputs": [
    {
     "name": "stdout",
     "output_type": "stream",
     "text": [
      "1\n",
      "2\n"
     ]
    }
   ],
   "source": [
    "#   Break Statement - Terminates / exist the loop.\n",
    "#                     when the condition is meet it will be break the loop.\n",
    "\n",
    "n = 7 \n",
    "i = 1\n",
    "while(i<n):\n",
    "    print(i)\n",
    "    i=i+1\n",
    "    if i==3:\n",
    "        break\n",
    "else:\n",
    "    print(\"This Code will\")"
   ]
  },
  {
   "cell_type": "code",
   "execution_count": 25,
   "id": "88967685-3b5e-4ac7-a097-bf2f8be24101",
   "metadata": {},
   "outputs": [
    {
     "name": "stdout",
     "output_type": "stream",
     "text": [
      "This will be executed when the while is run successfully without any break\n"
     ]
    }
   ],
   "source": [
    "#  Continue - Skip the iteration\n",
    "\n",
    "n = 7\n",
    "i = 1\n",
    "while i < n:\n",
    "    i=i+1\n",
    "    if i == 3:\n",
    "        continue\n",
    "        print(i)\n",
    "else:\n",
    "    print(\"This will be executed when the while is run successfully without any break\")"
   ]
  },
  {
   "cell_type": "code",
   "execution_count": 35,
   "id": "2ddacc30-ab89-4eb9-985e-2bb93037bced",
   "metadata": {},
   "outputs": [
    {
     "name": "stdout",
     "output_type": "stream",
     "text": [
      "p\n",
      "w\n",
      "s\n",
      "k\n",
      "i\n",
      "l\n",
      "l\n",
      "s\n"
     ]
    }
   ],
   "source": [
    "#  For Loop  - itterate over a sequnce og elements\n",
    "\n",
    "for itr in \"pwskills\":\n",
    "    print(itr)"
   ]
  },
  {
   "cell_type": "code",
   "execution_count": 43,
   "id": "048f01fc-88a6-42b7-ac4d-792a16426212",
   "metadata": {},
   "outputs": [
    {
     "name": "stdout",
     "output_type": "stream",
     "text": [
      "[1, 2, 'abhishek', 'Singh']\n",
      "[1, 2, 'abhishek', 'Singh']\n",
      "[1, 2, 'abhishek', 'Singh']\n",
      "[1, 2, 'abhishek', 'Singh']\n",
      "This will executed when for loop ends without a break statement\n"
     ]
    }
   ],
   "source": [
    "L1 = [1, 2, \"abhishek\", \"Singh\"]\n",
    "for i in L1:\n",
    "    print(L1)\n",
    "else:\n",
    "    print(\"This will executed when for loop ends without a break statement\")    "
   ]
  },
  {
   "cell_type": "code",
   "execution_count": 55,
   "id": "3b3ecb52-55d1-4479-bad2-a235e37a13d0",
   "metadata": {},
   "outputs": [
    {
     "name": "stdout",
     "output_type": "stream",
     "text": [
      "0\n",
      "1\n",
      "2\n"
     ]
    }
   ],
   "source": [
    "# break statement for loop \n",
    "\n",
    "for i in range(5):\n",
    "    if i == 3:\n",
    "        break\n",
    "    print(i)\n"
   ]
  },
  {
   "cell_type": "code",
   "execution_count": 56,
   "id": "de6bea89-1165-46cd-97aa-f096bfae8c56",
   "metadata": {},
   "outputs": [
    {
     "name": "stdout",
     "output_type": "stream",
     "text": [
      "0\n",
      "1\n",
      "2\n",
      "4\n"
     ]
    }
   ],
   "source": [
    "# continue statement with the for loop to skip the current iteration of the loop and jump to the next iteration.\n",
    "\n",
    "for i in range(5):\n",
    "    if i == 3:\n",
    "        continue\n",
    "    print(i)"
   ]
  },
  {
   "cell_type": "code",
   "execution_count": null,
   "id": "ecfd7177-b70e-4d3c-9b2d-5eb7fe229304",
   "metadata": {},
   "outputs": [],
   "source": []
  }
 ],
 "metadata": {
  "kernelspec": {
   "display_name": "Python 3 (ipykernel)",
   "language": "python",
   "name": "python3"
  },
  "language_info": {
   "codemirror_mode": {
    "name": "ipython",
    "version": 3
   },
   "file_extension": ".py",
   "mimetype": "text/x-python",
   "name": "python",
   "nbconvert_exporter": "python",
   "pygments_lexer": "ipython3",
   "version": "3.10.8"
  }
 },
 "nbformat": 4,
 "nbformat_minor": 5
}
